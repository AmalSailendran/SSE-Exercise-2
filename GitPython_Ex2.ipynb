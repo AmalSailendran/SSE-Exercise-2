{
 "cells": [
  {
   "cell_type": "markdown",
   "metadata": {},
   "source": [
    "# Amal Sailendran, A1783111"
   ]
  },
  {
   "attachments": {},
   "cell_type": "markdown",
   "metadata": {},
   "source": [
    "# 1.\tCVE-ID - CVE-2012-1621\n",
    "# 2.\tProject Link: https://github.com/apache/ofbiz \n",
    "# 3.\tProvided Fixing Commit - ea604f84e4a21fe081d66bbdab454b1e8a7d09b3 \n"
   ]
  },
  {
   "cell_type": "code",
   "execution_count": 336,
   "metadata": {},
   "outputs": [],
   "source": [
    "import numpy as np\n",
    "import pandas as pd\n",
    "import os\n",
    "\n",
    "# Specify git executable file for GitPython in Jupyter Notebook (In IDE, it can still work without this line.)\n",
    "os.environ[\"GIT_PYTHON_REFRESH\"] = \"quiet\"\n",
    "\n",
    "import git\n",
    "from git import RemoteProgress\n",
    "\n",
    "from git import Repo\n",
    "import matplotlib.pyplot as plt\n",
    "import seaborn as sns\n",
    "%matplotlib inline"
   ]
  },
  {
   "cell_type": "code",
   "execution_count": 337,
   "metadata": {},
   "outputs": [],
   "source": [
    "repo = Repo(\"ofbiz/\")\n",
    "fixingCommit=\"ea604f84e4a21fe081d66bbdab454b1e8a7d09b3\""
   ]
  },
  {
   "cell_type": "markdown",
   "metadata": {},
   "source": [
    "# Task ‘a’: What was the message and title of the fixing commit? Was there any mention of fixing a bug or vulnerability?\n"
   ]
  },
  {
   "cell_type": "code",
   "execution_count": 338,
   "metadata": {},
   "outputs": [
    {
     "name": "stdout",
     "output_type": "stream",
     "text": [
      "('    Merged from trunk r1309993: CVE-2012-1621: Prevent user submitted data '\n",
      " 'from being streamed directly back to the browser when the content map-key is '\n",
      " 'not found.  Log a warning instead.')\n"
     ]
    }
   ],
   "source": [
    "import pprint as pprint\n",
    "show_data = repo.git.show(\"-s\", fixingCommit).splitlines()\n",
    "pprint.pprint(show_data[4])"
   ]
  },
  {
   "cell_type": "markdown",
   "metadata": {},
   "source": [
    "# Task ‘b’: How many total files were affected in the fixing commit?\n"
   ]
  },
  {
   "cell_type": "code",
   "execution_count": 339,
   "metadata": {},
   "outputs": [
    {
     "name": "stdout",
     "output_type": "stream",
     "text": [
      "' 1 file changed, 1 insertion(+), 1 deletion(-)'\n"
     ]
    }
   ],
   "source": [
    "import pprint as pprint\n",
    "totalFilesAffected = repo.git.show(\"--stat\", \"ea604f84e4a21fe081d66bbdab454b1e8a7d09b3\").splitlines()\n",
    "\n",
    "pprint.pprint(totalFilesAffected[9])"
   ]
  },
  {
   "cell_type": "markdown",
   "metadata": {},
   "source": [
    "# Task ‘c’: How many total directories were affected in the fixing commit?\n"
   ]
  },
  {
   "cell_type": "code",
   "execution_count": 340,
   "metadata": {},
   "outputs": [
    {
     "name": "stdout",
     "output_type": "stream",
     "text": [
      "'Directories affected:  applications/content/src/org/ofbiz/content/content/'\n"
     ]
    }
   ],
   "source": [
    "totalDirectoriesAffected = repo.git.show(\"--stat\", \"ea604f84e4a21fe081d66bbdab454b1e8a7d09b3\").splitlines()\n",
    "\n",
    "pprint.pprint(\"Directories affected: \"+totalDirectoriesAffected[8][0:52])"
   ]
  },
  {
   "cell_type": "markdown",
   "metadata": {},
   "source": [
    "# Task 'd': How many total lines of code (including comments and blank lines) were deleted?\n"
   ]
  },
  {
   "cell_type": "code",
   "execution_count": 341,
   "metadata": {},
   "outputs": [
    {
     "name": "stdout",
     "output_type": "stream",
     "text": [
      "'Total lines DELETED including comments and blank lines: 1 deletion(-)'\n"
     ]
    }
   ],
   "source": [
    "totalLinesDeletedInc = repo.git.show(\"--stat\", \"ea604f84e4a21fe081d66bbdab454b1e8a7d09b3\").splitlines()\n",
    "\n",
    "pprint.pprint(\"Total lines DELETED including comments and blank lines: \"+totalLinesDeletedInc[9][33:46])"
   ]
  },
  {
   "cell_type": "markdown",
   "metadata": {},
   "source": [
    "# Task 'e': How many total lines of code (including comments and blank lines) were added?\n"
   ]
  },
  {
   "cell_type": "code",
   "execution_count": 342,
   "metadata": {
    "scrolled": true
   },
   "outputs": [
    {
     "name": "stdout",
     "output_type": "stream",
     "text": [
      "'Total lines ADDED including comments and blank lines: 1 insertion(+)'\n"
     ]
    }
   ],
   "source": [
    "totalLinesAddedInc = repo.git.show(\"--stat\", \"ea604f84e4a21fe081d66bbdab454b1e8a7d09b3\").splitlines()\n",
    "\n",
    "pprint.pprint(\"Total lines ADDED including comments and blank lines: \"+totalLinesAddedInc[9][17:31])"
   ]
  },
  {
   "cell_type": "markdown",
   "metadata": {},
   "source": [
    "# Task 'f': How many total lines of code (excluding comments and blank lines) were deleted?\n"
   ]
  },
  {
   "cell_type": "code",
   "execution_count": 343,
   "metadata": {},
   "outputs": [
    {
     "name": "stdout",
     "output_type": "stream",
     "text": [
      "'Total lines DELETED excluding comments and blank lines: 1 deletion(-)'\n"
     ]
    }
   ],
   "source": [
    "totalLinesDeletedExc = repo.git.show(\"--stat\", \"--ignore-blank-lines\", \"ea604f84e4a21fe081d66bbdab454b1e8a7d09b3\").splitlines()\n",
    "\n",
    "pprint.pprint(\"Total lines DELETED excluding comments and blank lines: \"+totalLinesDeletedExc[9][33:46])"
   ]
  },
  {
   "cell_type": "markdown",
   "metadata": {},
   "source": [
    "# Task 'g': How many total lines of code (excluding comments and blank lines) were added?\n"
   ]
  },
  {
   "cell_type": "code",
   "execution_count": 344,
   "metadata": {},
   "outputs": [
    {
     "name": "stdout",
     "output_type": "stream",
     "text": [
      "'Total lines ADDED excluding comments and blank lines: 1 insertion(+)'\n"
     ]
    }
   ],
   "source": [
    "totalLinesAddedExc = repo.git.show(\"--stat\", \"--ignore-blank-lines\", \"ea604f84e4a21fe081d66bbdab454b1e8a7d09b3\").splitlines()\n",
    "\n",
    "pprint.pprint(\"Total lines ADDED excluding comments and blank lines: \"+totalLinesAddedExc[9][17:31])"
   ]
  },
  {
   "cell_type": "markdown",
   "metadata": {},
   "source": [
    "# Task ‘h’: How many days were between the current fixing commit and the previous commit of each affected file?\n"
   ]
  },
  {
   "cell_type": "code",
   "execution_count": 345,
   "metadata": {},
   "outputs": [
    {
     "name": "stdout",
     "output_type": "stream",
     "text": [
      "119 Days\n"
     ]
    }
   ],
   "source": [
    "from datetime import datetime\n",
    "from datetime import date\n",
    "DateOfFixingCommit = repo.git.log(\"-1\" ,\"--format=\\\"%ai\\\"\", \"ea604f84e4a21fe081d66bbdab454b1e8a7d09b3\",\"--\",\"applications/content/src/org/ofbiz/content/content/ContentWorker.java\").splitlines()\n",
    "DateOfFixingCommit=DateOfFixingCommit[0][1:11]\n",
    "DateOfPrevCommit = repo.git.log(\"-1\" ,\"--format=\\\"%ai\\\"\",\"-p\",\"ea604f84e4a21fe081d66bbdab454b1e8a7d09b3^\",\"--\",\"applications/content/src/org/ofbiz/content/content/ContentWorker.java\").splitlines()\n",
    "DateOfPrevCommit=DateOfPrevCommit[0][1:11]\n",
    "DateOfPrevCommit= datetime.strptime(DateOfPrevCommit,\"%Y-%m-%d\")\n",
    "DateOfFixingCommit= datetime.strptime(DateOfFixingCommit,\"%Y-%m-%d\")\n",
    "Days=(DateOfFixingCommit-DateOfPrevCommit).days\n",
    "print(Days,\"Days\")"
   ]
  },
  {
   "cell_type": "markdown",
   "metadata": {},
   "source": [
    "# Task ‘I’: How many time has each affected file of the current fixing commit been modified in the past since their creation (including rename of the file)?\n"
   ]
  },
  {
   "cell_type": "code",
   "execution_count": 346,
   "metadata": {},
   "outputs": [
    {
     "name": "stdout",
     "output_type": "stream",
     "text": [
      "63\n"
     ]
    }
   ],
   "source": [
    "Commits=repo.git.log(\"--follow\",\"ea604f84e4a21fe081d66bbdab454b1e8a7d09b3\",\"--\",\"applications/content/src/org/ofbiz/content/content/ContentWorker.java\")\n",
    "print(Commits.count('commit'))"
   ]
  },
  {
   "cell_type": "markdown",
   "metadata": {},
   "source": [
    "# Task ‘j’: Which developers have modified each affected file since its creation?\n"
   ]
  },
  {
   "cell_type": "code",
   "execution_count": 347,
   "metadata": {},
   "outputs": [
    {
     "name": "stdout",
     "output_type": "stream",
     "text": [
      "('\"Scott Gray\"\\n'\n",
      " '\"Jacques Le Roux\"\\n'\n",
      " '\"Jacques Le Roux\"\\n'\n",
      " '\"Scott Gray\"\\n'\n",
      " '\"Scott Gray\"\\n'\n",
      " '\"Scott Gray\"\\n'\n",
      " '\"Adam Heath\"\\n'\n",
      " '\"Jacques Le Roux\"\\n'\n",
      " '\"Jacques Le Roux\"\\n'\n",
      " '\"Adrian Crum\"\\n'\n",
      " '\"Scott Gray\"\\n'\n",
      " '\"Johannes Cornelius Bakker\"\\n'\n",
      " '\"Johannes Cornelius Bakker\"\\n'\n",
      " '\"Johannes Cornelius Bakker\"\\n'\n",
      " '\"Johannes Cornelius Bakker\"\\n'\n",
      " '\"Jacques Le Roux\"\\n'\n",
      " '\"Johannes Cornelius Bakker\"\\n'\n",
      " '\"Jacopo Cappellato\"\\n'\n",
      " '\"Scott Gray\"\\n'\n",
      " '\"Adam Heath\"\\n'\n",
      " '\"Adam Heath\"\\n'\n",
      " '\"Jacques Le Roux\"\\n'\n",
      " '\"Adrian Crum\"\\n'\n",
      " '\"Jacques Le Roux\"\\n'\n",
      " '\"Adam Heath\"\\n'\n",
      " '\"Adam Heath\"\\n'\n",
      " '\"Adam Heath\"\\n'\n",
      " '\"Adam Heath\"\\n'\n",
      " '\"Adam Heath\"\\n'\n",
      " '\"David E. Jones\"\\n'\n",
      " '\"Jacopo Cappellato\"\\n'\n",
      " '\"David E. Jones\"\\n'\n",
      " '\"Scott Gray\"\\n'\n",
      " '\"Scott Gray\"\\n'\n",
      " '\"Johannes Cornelius Bakker\"\\n'\n",
      " '\"Bilgin Ismet Ibryam\"\\n'\n",
      " '\"Adam Heath\"\\n'\n",
      " '\"Alfred Maxwell Byers\"\\n'\n",
      " '\"Alfred Maxwell Byers\"\\n'\n",
      " '\"Alfred Maxwell Byers\"\\n'\n",
      " '\"Jacopo Cappellato\"\\n'\n",
      " '\"Scott Gray\"\\n'\n",
      " '\"David E. Jones\"\\n'\n",
      " '\"Andrew Zeneski\"\\n'\n",
      " '\"Andrew Zeneski\"\\n'\n",
      " '\"Andrew Zeneski\"\\n'\n",
      " '\"Andrew Zeneski\"\\n'\n",
      " '\"Jacopo Cappellato\"\\n'\n",
      " '\"Andrew Zeneski\"\\n'\n",
      " '\"Andrew Zeneski\"\\n'\n",
      " '\"Andrew Zeneski\"\\n'\n",
      " '\"Jacopo Cappellato\"\\n'\n",
      " '\"Alfred Maxwell Byers\"\\n'\n",
      " '\"Jacques Le Roux\"\\n'\n",
      " '\"Jacques Le Roux\"\\n'\n",
      " '\"Jacques Le Roux\"\\n'\n",
      " '\"Jacques Le Roux\"\\n'\n",
      " '\"Jacopo Cappellato\"\\n'\n",
      " '\"Jacopo Cappellato\"\\n'\n",
      " '\"David E. Jones\"')\n"
     ]
    }
   ],
   "source": [
    "Developers=repo.git.log(\"--format=\\\"%aN\\\"\",\"ea604f84e4a21fe081d66bbdab454b1e8a7d09b3\",\"--\",\"applications/content/src/org/ofbiz/content/content/ContentWorker.java\")\n",
    "pprint.pprint(Developers)"
   ]
  },
  {
   "cell_type": "markdown",
   "metadata": {},
   "source": [
    "# Task ‘k’:  Which developers have modified each affected file since its creation?\n"
   ]
  },
  {
   "cell_type": "code",
   "execution_count": 348,
   "metadata": {},
   "outputs": [
    {
     "name": "stdout",
     "output_type": "stream",
     "text": [
      "('    11\\tJacques Le Roux\\n'\n",
      " '     9\\tAdam Heath\\n'\n",
      " '     9\\tScott Gray\\n'\n",
      " '     7\\tAndrew Zeneski\\n'\n",
      " '     7\\tJacopo Cappellato\\n'\n",
      " '     6\\tJohannes Cornelius Bakker\\n'\n",
      " '     4\\tDavid E. Jones\\n'\n",
      " '     4\\tAlfred Maxwell Byers\\n'\n",
      " '     2\\tAdrian Crum\\n'\n",
      " '     1\\tBilgin Ismet Ibryam')\n"
     ]
    }
   ],
   "source": [
    "TopDevelopers=repo.git.shortlog(\"-sn\",\"ea604f84e4a21fe081d66bbdab454b1e8a7d09b3\",\"--\",\"applications/content/src/org/ofbiz/content/content/ContentWorker.java\")\n",
    "pprint.pprint(TopDevelopers)"
   ]
  },
  {
   "cell_type": "markdown",
   "metadata": {},
   "source": [
    "# END OF CVE-2012-1621\n",
    "# --------------------------"
   ]
  },
  {
   "attachments": {},
   "cell_type": "markdown",
   "metadata": {},
   "source": [
    "# 1.\tCVE-ID - CVE-2017-15719\n",
    "# 2.\tProject Link: https://github.com/sebfz1/wicket-jquery-ui\n",
    "# 3.\tProvided Fixing Commit - 8aebe1e49a71f10cdd6a073fd09d0d8d82352a0\n"
   ]
  },
  {
   "cell_type": "code",
   "execution_count": 349,
   "metadata": {},
   "outputs": [],
   "source": [
    "import numpy as np\n",
    "import pandas as pd\n",
    "import os\n",
    "\n",
    "# Specify git executable file for GitPython in Jupyter Notebook (In IDE, it can still work without this line.)\n",
    "os.environ[\"GIT_PYTHON_REFRESH\"] = \"quiet\"\n",
    "\n",
    "import git\n",
    "from git import RemoteProgress\n",
    "\n",
    "from git import Repo\n",
    "import matplotlib.pyplot as plt\n",
    "import seaborn as sns\n",
    "%matplotlib inline"
   ]
  },
  {
   "cell_type": "code",
   "execution_count": 350,
   "metadata": {},
   "outputs": [],
   "source": [
    "repo = Repo(\"wicket-jquery-ui/\")\n",
    "fixingCommit=\"8aebe1e49a71f10cdd6a073fd09d0d8d82352a0\""
   ]
  },
  {
   "cell_type": "markdown",
   "metadata": {},
   "source": [
    "# Task ‘a’: What was the message and title of the fixing commit? Was there any mention of fixing a bug or vulnerability?\n"
   ]
  },
  {
   "cell_type": "code",
   "execution_count": 351,
   "metadata": {},
   "outputs": [
    {
     "name": "stdout",
     "output_type": "stream",
     "text": [
      "'    Plugins: Editor, added OWASP sanitizer'\n"
     ]
    }
   ],
   "source": [
    "import pprint as pprint\n",
    "show_data = repo.git.show(\"-s\", fixingCommit).splitlines()\n",
    "pprint.pprint(show_data[4])"
   ]
  },
  {
   "cell_type": "markdown",
   "metadata": {},
   "source": [
    "# Task ‘b’: How many total files were affected in the fixing commit?\n"
   ]
  },
  {
   "cell_type": "code",
   "execution_count": 352,
   "metadata": {},
   "outputs": [
    {
     "name": "stdout",
     "output_type": "stream",
     "text": [
      "' 2 files changed, 39 insertions(+), 11 deletions(-)'\n"
     ]
    }
   ],
   "source": [
    "import pprint as pprint\n",
    "totalFilesAffected = repo.git.show(\"--stat\", \"8aebe1e49a71f10cdd6a073fd09d0d8d82352a0\").splitlines()\n",
    "\n",
    "pprint.pprint(totalFilesAffected[8])"
   ]
  },
  {
   "cell_type": "markdown",
   "metadata": {},
   "source": [
    "# Task ‘c’: How many total directories were affected in the fixing commit?\n"
   ]
  },
  {
   "cell_type": "code",
   "execution_count": 353,
   "metadata": {},
   "outputs": [
    {
     "name": "stdout",
     "output_type": "stream",
     "text": [
      "('Directories affected:  wicket-jquery-ui-plugins/pom.xml and  '\n",
      " '.../jquery/ui/plugins/wysiwyg/WysiwygEditor.java ')\n"
     ]
    }
   ],
   "source": [
    "totalDirectoriesAffected = repo.git.show(\"--stat\", \"8aebe1e49a71f10cdd6a073fd09d0d8d82352a0\").splitlines()\n",
    "\n",
    "pprint.pprint(\"Directories affected: \"+totalDirectoriesAffected[6][0:33]+\" and \"+totalDirectoriesAffected[7][0:50])"
   ]
  },
  {
   "cell_type": "markdown",
   "metadata": {},
   "source": [
    "# Task 'd': How many total lines of code (including comments and blank lines) were deleted?\n"
   ]
  },
  {
   "cell_type": "code",
   "execution_count": 354,
   "metadata": {},
   "outputs": [
    {
     "name": "stdout",
     "output_type": "stream",
     "text": [
      "'Total lines DELETED including comments and blank lines: ), 11 deletions(-)'\n"
     ]
    }
   ],
   "source": [
    "totalLinesDeletedInc = repo.git.show(\"--stat\", \"8aebe1e49a71f10cdd6a073fd09d0d8d82352a0\").splitlines()\n",
    "\n",
    "pprint.pprint(\"Total lines DELETED including comments and blank lines: \"+totalLinesDeletedInc[8][33:51])"
   ]
  },
  {
   "cell_type": "markdown",
   "metadata": {},
   "source": [
    "# Task 'e': How many total lines of code (including comments and blank lines) were added?\n"
   ]
  },
  {
   "cell_type": "code",
   "execution_count": 355,
   "metadata": {
    "scrolled": true
   },
   "outputs": [
    {
     "name": "stdout",
     "output_type": "stream",
     "text": [
      "'Total lines ADDED including comments and blank lines:  39 insertions'\n"
     ]
    }
   ],
   "source": [
    "totalLinesAddedInc = repo.git.show(\"--stat\", \"8aebe1e49a71f10cdd6a073fd09d0d8d82352a0\").splitlines()\n",
    "\n",
    "pprint.pprint(\"Total lines ADDED including comments and blank lines: \"+totalLinesAddedInc[8][17:31])"
   ]
  },
  {
   "cell_type": "markdown",
   "metadata": {},
   "source": [
    "# Task 'f': How many total lines of code (excluding comments and blank lines) were deleted?\n"
   ]
  },
  {
   "cell_type": "code",
   "execution_count": 356,
   "metadata": {},
   "outputs": [
    {
     "name": "stdout",
     "output_type": "stream",
     "text": [
      "'Total lines DELETED excluding comments and blank lines:  11 deletions(-)'\n"
     ]
    }
   ],
   "source": [
    "totalLinesDeletedExc = repo.git.show(\"--stat\", \"--ignore-blank-lines\", \"8aebe1e49a71f10cdd6a073fd09d0d8d82352a0\").splitlines()\n",
    "\n",
    "pprint.pprint(\"Total lines DELETED excluding comments and blank lines: \"+totalLinesDeletedExc[8][35:51])"
   ]
  },
  {
   "cell_type": "markdown",
   "metadata": {},
   "source": [
    "# Task 'g': How many total lines of code (excluding comments and blank lines) were added?\n"
   ]
  },
  {
   "cell_type": "code",
   "execution_count": 357,
   "metadata": {},
   "outputs": [
    {
     "name": "stdout",
     "output_type": "stream",
     "text": [
      "'Total lines ADDED excluding comments and blank lines:  39 insertions'\n"
     ]
    }
   ],
   "source": [
    "totalLinesAddedExc = repo.git.show(\"--stat\", \"--ignore-blank-lines\", \"8aebe1e49a71f10cdd6a073fd09d0d8d82352a0\").splitlines()\n",
    "\n",
    "pprint.pprint(\"Total lines ADDED excluding comments and blank lines: \"+totalLinesAddedExc[8][17:31])"
   ]
  },
  {
   "cell_type": "markdown",
   "metadata": {},
   "source": [
    "# Task ‘h’: How many days were between the current fixing commit and the previous commit of each affected file?\n"
   ]
  },
  {
   "cell_type": "code",
   "execution_count": 358,
   "metadata": {},
   "outputs": [
    {
     "name": "stdout",
     "output_type": "stream",
     "text": [
      "159 Days\n"
     ]
    }
   ],
   "source": [
    "from datetime import datetime\n",
    "from datetime import date\n",
    "DateOfFixingCommit = repo.git.log(\"-1\" ,\"--format=\\\"%ai\\\"\", \"8aebe1e49a71f10cdd6a073fd09d0d8d82352a0\",\"--\",\"wicket-jquery-ui-plugins/src/main/java/com/googlecode/wicket/jquery/ui/plugins/wysiwyg/WysiwygEditor.java\").splitlines()\n",
    "DateOfFixingCommit=DateOfFixingCommit[0][1:11]\n",
    "DateOfPrevCommit = repo.git.log(\"-1\" ,\"--format=\\\"%ai\\\"\",\"-p\",\"8aebe1e49a71f10cdd6a073fd09d0d8d82352a0^\",\"--\",\"wicket-jquery-ui-plugins/src/main/java/com/googlecode/wicket/jquery/ui/plugins/wysiwyg/WysiwygEditor.java\").splitlines()\n",
    "DateOfPrevCommit=DateOfPrevCommit[0][1:11]\n",
    "DateOfPrevCommit= datetime.strptime(DateOfPrevCommit,\"%Y-%m-%d\")\n",
    "DateOfFixingCommit= datetime.strptime(DateOfFixingCommit,\"%Y-%m-%d\")\n",
    "Days=(DateOfFixingCommit-DateOfPrevCommit).days\n",
    "print(Days, \"Days\")"
   ]
  },
  {
   "cell_type": "markdown",
   "metadata": {},
   "source": [
    "# Task ‘I’: How many time has each affected file of the current fixing commit been modified in the past since their creation (including rename of the file)?\n"
   ]
  },
  {
   "cell_type": "code",
   "execution_count": 359,
   "metadata": {},
   "outputs": [
    {
     "name": "stdout",
     "output_type": "stream",
     "text": [
      "17\n"
     ]
    }
   ],
   "source": [
    "Commits=repo.git.log(\"--follow\",\"8aebe1e49a71f10cdd6a073fd09d0d8d82352a0\",\"--\",\"wicket-jquery-ui-plugins/src/main/java/com/googlecode/wicket/jquery/ui/plugins/wysiwyg/WysiwygEditor.java\")\n",
    "print(Commits.count('commit'))"
   ]
  },
  {
   "cell_type": "markdown",
   "metadata": {},
   "source": [
    "# Task ‘j’: Which developers have modified each affected file since its creation?\n"
   ]
  },
  {
   "cell_type": "code",
   "execution_count": 360,
   "metadata": {},
   "outputs": [
    {
     "name": "stdout",
     "output_type": "stream",
     "text": [
      "('\"Maxim Solodovnik\"\\n'\n",
      " '\"Sebastien Briquet\"\\n'\n",
      " '\"sbriquet\"\\n'\n",
      " '\"Sebastien Briquet\"\\n'\n",
      " '\"Sebastien\"\\n'\n",
      " '\"Maxim Solodovnik\"\\n'\n",
      " '\"Sebastien Briquet\"\\n'\n",
      " '\"Maxim Solodovnik\"\\n'\n",
      " '\"Maxim Solodovnik\"\\n'\n",
      " '\"Sebastien Briquet\"\\n'\n",
      " '\"Sebastien\"\\n'\n",
      " '\"Sebastien\"\\n'\n",
      " '\"Maxim Solodovnik\"\\n'\n",
      " '\"Sebastien\"\\n'\n",
      " '\"Sebastien\"\\n'\n",
      " '\"Sebastien\"\\n'\n",
      " '\"Sebastien\"')\n"
     ]
    }
   ],
   "source": [
    "Developers=repo.git.log(\"--format=\\\"%aN\\\"\",\"8aebe1e49a71f10cdd6a073fd09d0d8d82352a0\",\"--\",\"wicket-jquery-ui-plugins/src/main/java/com/googlecode/wicket/jquery/ui/plugins/wysiwyg/WysiwygEditor.java\")\n",
    "pprint.pprint(Developers)"
   ]
  },
  {
   "cell_type": "markdown",
   "metadata": {},
   "source": [
    "# Task ‘k’:  Which developers have modified each affected file since its creation?\n"
   ]
  },
  {
   "cell_type": "code",
   "execution_count": 361,
   "metadata": {},
   "outputs": [
    {
     "name": "stdout",
     "output_type": "stream",
     "text": [
      "('     7\\tSebastien\\n'\n",
      " '     5\\tMaxim Solodovnik\\n'\n",
      " '     4\\tSebastien Briquet\\n'\n",
      " '     1\\tsbriquet')\n"
     ]
    }
   ],
   "source": [
    "TopDevelopers=repo.git.shortlog(\"-sn\",\"8aebe1e49a71f10cdd6a073fd09d0d8d82352a0\",\"--\",\"wicket-jquery-ui-plugins/src/main/java/com/googlecode/wicket/jquery/ui/plugins/wysiwyg/WysiwygEditor.java\")\n",
    "pprint.pprint(TopDevelopers)"
   ]
  },
  {
   "cell_type": "markdown",
   "metadata": {},
   "source": [
    "# END OF CVE-2017-15719\n",
    "# --------------------------"
   ]
  },
  {
   "attachments": {},
   "cell_type": "markdown",
   "metadata": {},
   "source": [
    "# 1.\tCVE-ID - CVE-2018-1337\n",
    "# 2.\tProject Link: https://github.com/apache/directory-ldap-api\n",
    "# 3.\tProvided Fixing Commit - 075b70a733d7af150b3d85684149ff5f029f7fd\n",
    "\n",
    "# The submitted fixing commit in EXERCISE 1 was different from the provided one. However upon careful observation later on, the provided fixing commit indeed fixed the assigned vulnerability. As such the provided fixing commit will be used for answering the tasks of EXERCISE 2.\n"
   ]
  },
  {
   "cell_type": "code",
   "execution_count": 362,
   "metadata": {},
   "outputs": [],
   "source": [
    "import numpy as np\n",
    "import pandas as pd\n",
    "import os\n",
    "\n",
    "# Specify git executable file for GitPython in Jupyter Notebook (In IDE, it can still work without this line.)\n",
    "os.environ[\"GIT_PYTHON_REFRESH\"] = \"quiet\"\n",
    "\n",
    "import git\n",
    "from git import RemoteProgress\n",
    "\n",
    "from git import Repo\n",
    "import matplotlib.pyplot as plt\n",
    "import seaborn as sns\n",
    "%matplotlib inline"
   ]
  },
  {
   "cell_type": "code",
   "execution_count": 363,
   "metadata": {},
   "outputs": [],
   "source": [
    "repo = Repo(\"directory-ldap-api/\")\n",
    "fixingCommit=\"075b70a733d7af150b3d85684149ff5f029f7fd\""
   ]
  },
  {
   "cell_type": "markdown",
   "metadata": {},
   "source": [
    "# Task ‘a’: What was the message and title of the fixing commit? Was there any mention of fixing a bug or vulnerability?\n"
   ]
  },
  {
   "cell_type": "code",
   "execution_count": 364,
   "metadata": {},
   "outputs": [
    {
     "name": "stdout",
     "output_type": "stream",
     "text": [
      "'    Fixed some race condition in LdapConnection when using SSL'\n"
     ]
    }
   ],
   "source": [
    "import pprint as pprint\n",
    "show_data = repo.git.show(\"-s\", fixingCommit).splitlines()\n",
    "pprint.pprint(show_data[4])"
   ]
  },
  {
   "cell_type": "markdown",
   "metadata": {},
   "source": [
    "# Task ‘b’: How many total files were affected in the fixing commit?\n"
   ]
  },
  {
   "cell_type": "code",
   "execution_count": 365,
   "metadata": {},
   "outputs": [
    {
     "name": "stdout",
     "output_type": "stream",
     "text": [
      "' 1 file changed, 43 insertions(+), 36 deletions(-)'\n"
     ]
    }
   ],
   "source": [
    "import pprint as pprint\n",
    "totalFilesAffected = repo.git.show(\"--stat\", \"075b70a733d7af150b3d85684149ff5f029f7fd\").splitlines()\n",
    "\n",
    "pprint.pprint(totalFilesAffected[7])"
   ]
  },
  {
   "cell_type": "markdown",
   "metadata": {},
   "source": [
    "# Task ‘c’: How many total directories were affected in the fixing commit?\n"
   ]
  },
  {
   "cell_type": "code",
   "execution_count": 366,
   "metadata": {},
   "outputs": [
    {
     "name": "stdout",
     "output_type": "stream",
     "text": [
      "'Directories affected:  .../ldap/client/api/LdapNetworkC'\n"
     ]
    }
   ],
   "source": [
    "totalDirectoriesAffected = repo.git.show(\"--stat\", \"075b70a733d7af150b3d85684149ff5f029f7fd\").splitlines()\n",
    "\n",
    "pprint.pprint(\"Directories affected: \"+totalDirectoriesAffected[6][0:33])"
   ]
  },
  {
   "cell_type": "markdown",
   "metadata": {},
   "source": [
    "# Task 'd': How many total lines of code (including comments and blank lines) were deleted?\n"
   ]
  },
  {
   "cell_type": "code",
   "execution_count": 367,
   "metadata": {},
   "outputs": [
    {
     "name": "stdout",
     "output_type": "stream",
     "text": [
      "'Total lines DELETED including comments and blank lines: , 36 deletions(-)'\n"
     ]
    }
   ],
   "source": [
    "totalLinesDeletedInc = repo.git.show(\"--stat\", \"075b70a733d7af150b3d85684149ff5f029f7fd\").splitlines()\n",
    "\n",
    "pprint.pprint(\"Total lines DELETED including comments and blank lines: \"+totalLinesDeletedInc[7][33:51])"
   ]
  },
  {
   "cell_type": "markdown",
   "metadata": {},
   "source": [
    "# Task 'e': How many total lines of code (including comments and blank lines) were added?\n"
   ]
  },
  {
   "cell_type": "code",
   "execution_count": 368,
   "metadata": {
    "scrolled": true
   },
   "outputs": [
    {
     "name": "stdout",
     "output_type": "stream",
     "text": [
      "'Total lines ADDED including comments and blank lines: 43 insertions'\n"
     ]
    }
   ],
   "source": [
    "totalLinesAddedInc = repo.git.show(\"--stat\", \"075b70a733d7af150b3d85684149ff5f029f7fd\").splitlines()\n",
    "\n",
    "pprint.pprint(\"Total lines ADDED including comments and blank lines: \"+totalLinesAddedInc[7][17:30])"
   ]
  },
  {
   "cell_type": "markdown",
   "metadata": {},
   "source": [
    "# Task 'f': How many total lines of code (excluding comments and blank lines) were deleted?\n"
   ]
  },
  {
   "cell_type": "code",
   "execution_count": 369,
   "metadata": {},
   "outputs": [
    {
     "name": "stdout",
     "output_type": "stream",
     "text": [
      "'Total lines DELETED excluding comments and blank lines: 36 deletions(-)'\n"
     ]
    }
   ],
   "source": [
    "totalLinesDeletedExc = repo.git.show(\"--stat\", \"--ignore-blank-lines\", \"075b70a733d7af150b3d85684149ff5f029f7fd\").splitlines()\n",
    "\n",
    "pprint.pprint(\"Total lines DELETED excluding comments and blank lines: \"+totalLinesDeletedExc[7][35:51])"
   ]
  },
  {
   "cell_type": "markdown",
   "metadata": {},
   "source": [
    "# Task 'g': How many total lines of code (excluding comments and blank lines) were added?\n"
   ]
  },
  {
   "cell_type": "code",
   "execution_count": 370,
   "metadata": {},
   "outputs": [
    {
     "name": "stdout",
     "output_type": "stream",
     "text": [
      "'Total lines ADDED excluding comments and blank lines: 43 insertions'\n"
     ]
    }
   ],
   "source": [
    "totalLinesAddedExc = repo.git.show(\"--stat\", \"--ignore-blank-lines\", \"075b70a733d7af150b3d85684149ff5f029f7fd\").splitlines()\n",
    "\n",
    "pprint.pprint(\"Total lines ADDED excluding comments and blank lines: \"+totalLinesAddedExc[7][17:30])"
   ]
  },
  {
   "cell_type": "markdown",
   "metadata": {},
   "source": [
    "# Task ‘h’: How many days were between the current fixing commit and the previous commit of each affected file?\n"
   ]
  },
  {
   "cell_type": "code",
   "execution_count": 371,
   "metadata": {},
   "outputs": [
    {
     "name": "stdout",
     "output_type": "stream",
     "text": [
      "17 Days\n"
     ]
    }
   ],
   "source": [
    "from datetime import datetime\n",
    "from datetime import date\n",
    "DateOfFixingCommit = repo.git.log(\"-1\" ,\"--format=\\\"%ai\\\"\", \"075b70a733d7af150b3d85684149ff5f029f7fd\",\"--\",\"ldap/client/api/src/main/java/org/apache/directory/ldap/client/api/LdapNetworkConnection.java\").splitlines()\n",
    "DateOfFixingCommit=DateOfFixingCommit[0][1:11]\n",
    "DateOfPrevCommit = repo.git.log(\"-1\" ,\"--format=\\\"%ai\\\"\",\"-p\",\"075b70a733d7af150b3d85684149ff5f029f7fd^\",\"--\",\"ldap/client/api/src/main/java/org/apache/directory/ldap/client/api/LdapNetworkConnection.java\").splitlines()\n",
    "DateOfPrevCommit=DateOfPrevCommit[0][1:11]\n",
    "DateOfPrevCommit= datetime.strptime(DateOfPrevCommit,\"%Y-%m-%d\")\n",
    "DateOfFixingCommit= datetime.strptime(DateOfFixingCommit,\"%Y-%m-%d\")\n",
    "Days=(DateOfFixingCommit-DateOfPrevCommit).days\n",
    "print(Days,\"Days\")"
   ]
  },
  {
   "cell_type": "markdown",
   "metadata": {},
   "source": [
    "# Task ‘I’: How many time has each affected file of the current fixing commit been modified in the past since their creation (including rename of the file)?\n"
   ]
  },
  {
   "cell_type": "code",
   "execution_count": 372,
   "metadata": {},
   "outputs": [
    {
     "name": "stdout",
     "output_type": "stream",
     "text": [
      "241\n"
     ]
    }
   ],
   "source": [
    "Commits=repo.git.log(\"--follow\",\"075b70a733d7af150b3d85684149ff5f029f7fd\",\"--\",\"ldap/client/api/src/main/java/org/apache/directory/ldap/client/api/LdapNetworkConnection.java\")\n",
    "print(Commits.count('commit'))"
   ]
  },
  {
   "cell_type": "markdown",
   "metadata": {},
   "source": [
    "# Task ‘j’: Which developers have modified each affected file since its creation?\n"
   ]
  },
  {
   "cell_type": "code",
   "execution_count": 373,
   "metadata": {},
   "outputs": [
    {
     "name": "stdout",
     "output_type": "stream",
     "text": [
      "('\"Emmanuel Lécharny\"\\n'\n",
      " '\"Emmanuel Lécharny\"\\n'\n",
      " '\"Emmanuel Lécharny\"\\n'\n",
      " '\"Emmanuel Lécharny\"\\n'\n",
      " '\"Emmanuel Lécharny\"\\n'\n",
      " '\"Emmanuel Lécharny\"\\n'\n",
      " '\"Emmanuel Lécharny\"\\n'\n",
      " '\"Emmanuel Lécharny\"\\n'\n",
      " '\"Emmanuel Lécharny\"\\n'\n",
      " '\"Emmanuel Lécharny\"\\n'\n",
      " '\"Emmanuel Lécharny\"\\n'\n",
      " '\"Emmanuel Lécharny\"\\n'\n",
      " '\"Emmanuel Lécharny\"\\n'\n",
      " '\"Emmanuel Lécharny\"\\n'\n",
      " '\"Emmanuel Lécharny\"\\n'\n",
      " '\"Emmanuel Lécharny\"\\n'\n",
      " '\"Emmanuel Lécharny\"\\n'\n",
      " '\"Emmanuel Lécharny\"\\n'\n",
      " '\"Emmanuel Lécharny\"\\n'\n",
      " '\"Emmanuel Lécharny\"\\n'\n",
      " '\"Emmanuel Lécharny\"\\n'\n",
      " '\"Emmanuel Lécharny\"\\n'\n",
      " '\"Emmanuel Lécharny\"\\n'\n",
      " '\"Emmanuel Lécharny\"\\n'\n",
      " '\"Emmanuel Lécharny\"\\n'\n",
      " '\"Emmanuel Lécharny\"\\n'\n",
      " '\"Emmanuel Lécharny\"\\n'\n",
      " '\"Emmanuel Lécharny\"\\n'\n",
      " '\"Emmanuel Lécharny\"\\n'\n",
      " '\"Emmanuel Lécharny\"\\n'\n",
      " '\"Stefan Seelmann\"\\n'\n",
      " '\"Emmanuel Lécharny\"\\n'\n",
      " '\"Emmanuel Lécharny\"\\n'\n",
      " '\"Stefan Seelmann\"\\n'\n",
      " '\"Emmanuel Lecharny\"\\n'\n",
      " '\"Emmanuel Lecharny\"\\n'\n",
      " '\"Emmanuel Lecharny\"\\n'\n",
      " '\"Stefan Seelmann\"\\n'\n",
      " '\"Radovan Semancik\"\\n'\n",
      " '\"Radovan Semancik\"\\n'\n",
      " '\"Radovan Semancik\"\\n'\n",
      " '\"Emmanuel Lecharny\"\\n'\n",
      " '\"Emmanuel Lecharny\"\\n'\n",
      " '\"Emmanuel Lecharny\"\\n'\n",
      " '\"Emmanuel Lecharny\"\\n'\n",
      " '\"Emmanuel Lecharny\"\\n'\n",
      " '\"Emmanuel Lecharny\"\\n'\n",
      " '\"Emmanuel Lecharny\"\\n'\n",
      " '\"Lucas Theisen\"\\n'\n",
      " '\"Emmanuel Lecharny\"\\n'\n",
      " '\"Emmanuel Lecharny\"\\n'\n",
      " '\"Emmanuel Lecharny\"\\n'\n",
      " '\"Emmanuel Lecharny\"\\n'\n",
      " '\"Emmanuel Lecharny\"\\n'\n",
      " '\"Emmanuel Lecharny\"\\n'\n",
      " '\"Stefan Seelmann\"\\n'\n",
      " '\"Emmanuel Lecharny\"\\n'\n",
      " '\"Emmanuel Lecharny\"\\n'\n",
      " '\"Emmanuel Lecharny\"\\n'\n",
      " '\"Emmanuel Lecharny\"\\n'\n",
      " '\"Emmanuel Lecharny\"\\n'\n",
      " '\"Kiran Ayyagari\"\\n'\n",
      " '\"Lucas Theisen\"\\n'\n",
      " '\"Kiran Ayyagari\"\\n'\n",
      " '\"Kiran Ayyagari\"\\n'\n",
      " '\"Kiran Ayyagari\"\\n'\n",
      " '\"Kiran Ayyagari\"\\n'\n",
      " '\"Emmanuel Lecharny\"\\n'\n",
      " '\"Emmanuel Lecharny\"\\n'\n",
      " '\"Emmanuel Lecharny\"\\n'\n",
      " '\"Emmanuel Lecharny\"\\n'\n",
      " '\"Emmanuel Lecharny\"\\n'\n",
      " '\"Kiran Ayyagari\"\\n'\n",
      " '\"Emmanuel Lecharny\"\\n'\n",
      " '\"Emmanuel Lecharny\"\\n'\n",
      " '\"Emmanuel Lecharny\"\\n'\n",
      " '\"Emmanuel Lecharny\"\\n'\n",
      " '\"Emmanuel Lecharny\"\\n'\n",
      " '\"Emmanuel Lecharny\"\\n'\n",
      " '\"Emmanuel Lecharny\"\\n'\n",
      " '\"Emmanuel Lecharny\"\\n'\n",
      " '\"Emmanuel Lecharny\"\\n'\n",
      " '\"Emmanuel Lecharny\"\\n'\n",
      " '\"Emmanuel Lecharny\"\\n'\n",
      " '\"Emmanuel Lecharny\"\\n'\n",
      " '\"Emmanuel Lecharny\"\\n'\n",
      " '\"Emmanuel Lecharny\"\\n'\n",
      " '\"Emmanuel Lecharny\"\\n'\n",
      " '\"Emmanuel Lecharny\"\\n'\n",
      " '\"Emmanuel Lecharny\"\\n'\n",
      " '\"Emmanuel Lecharny\"\\n'\n",
      " '\"Emmanuel Lecharny\"\\n'\n",
      " '\"Emmanuel Lecharny\"\\n'\n",
      " '\"Emmanuel Lecharny\"\\n'\n",
      " '\"Emmanuel Lecharny\"\\n'\n",
      " '\"Emmanuel Lecharny\"\\n'\n",
      " '\"Emmanuel Lecharny\"\\n'\n",
      " '\"Emmanuel Lecharny\"\\n'\n",
      " '\"Emmanuel Lecharny\"\\n'\n",
      " '\"Emmanuel Lecharny\"\\n'\n",
      " '\"Pierre-Arnaud Marcelot\"\\n'\n",
      " '\"Emmanuel Lecharny\"\\n'\n",
      " '\"Pierre-Arnaud Marcelot\"\\n'\n",
      " '\"Emmanuel Lecharny\"\\n'\n",
      " '\"Emmanuel Lecharny\"\\n'\n",
      " '\"Emmanuel Lecharny\"\\n'\n",
      " '\"Emmanuel Lecharny\"\\n'\n",
      " '\"Emmanuel Lecharny\"\\n'\n",
      " '\"Emmanuel Lecharny\"\\n'\n",
      " '\"Pierre-Arnaud Marcelot\"\\n'\n",
      " '\"Pierre-Arnaud Marcelot\"\\n'\n",
      " '\"Pierre-Arnaud Marcelot\"\\n'\n",
      " '\"Pierre-Arnaud Marcelot\"\\n'\n",
      " '\"Emmanuel Lecharny\"\\n'\n",
      " '\"Kiran Ayyagari\"\\n'\n",
      " '\"Emmanuel Lecharny\"\\n'\n",
      " '\"Emmanuel Lecharny\"\\n'\n",
      " '\"Emmanuel Lecharny\"\\n'\n",
      " '\"Emmanuel Lecharny\"\\n'\n",
      " '\"Pierre-Arnaud Marcelot\"\\n'\n",
      " '\"Emmanuel Lecharny\"\\n'\n",
      " '\"Emmanuel Lecharny\"\\n'\n",
      " '\"Emmanuel Lecharny\"\\n'\n",
      " '\"Emmanuel Lecharny\"\\n'\n",
      " '\"Emmanuel Lecharny\"\\n'\n",
      " '\"Pierre-Arnaud Marcelot\"\\n'\n",
      " '\"Emmanuel Lecharny\"\\n'\n",
      " '\"Emmanuel Lecharny\"\\n'\n",
      " '\"Emmanuel Lecharny\"\\n'\n",
      " '\"Emmanuel Lecharny\"\\n'\n",
      " '\"Emmanuel Lecharny\"\\n'\n",
      " '\"Emmanuel Lecharny\"\\n'\n",
      " '\"Emmanuel Lecharny\"\\n'\n",
      " '\"Felix Knecht\"\\n'\n",
      " '\"Pierre-Arnaud Marcelot\"\\n'\n",
      " '\"Alex Karasulu\"')\n"
     ]
    }
   ],
   "source": [
    "Developers=repo.git.log(\"--format=\\\"%aN\\\"\",\"075b70a733d7af150b3d85684149ff5f029f7fd\",\"--\",\"ldap/client/api/src/main/java/org/apache/directory/ldap/client/api/LdapNetworkConnection.java\")\n",
    "pprint.pprint(Developers)"
   ]
  },
  {
   "cell_type": "markdown",
   "metadata": {},
   "source": [
    "# Task ‘k’:  Which developers have modified each affected file since its creation?\n"
   ]
  },
  {
   "cell_type": "code",
   "execution_count": 374,
   "metadata": {},
   "outputs": [
    {
     "name": "stdout",
     "output_type": "stream",
     "text": [
      "('    77\\tEmmanuel Lecharny\\n'\n",
      " '    32\\tEmmanuel Lécharny\\n'\n",
      " '     9\\tPierre-Arnaud Marcelot\\n'\n",
      " '     7\\tKiran Ayyagari\\n'\n",
      " '     4\\tStefan Seelmann\\n'\n",
      " '     3\\tRadovan Semancik\\n'\n",
      " '     2\\tLucas Theisen\\n'\n",
      " '     1\\tFelix Knecht\\n'\n",
      " '     1\\tAlex Karasulu')\n"
     ]
    }
   ],
   "source": [
    "TopDevelopers=repo.git.shortlog(\"-sn\",\"075b70a733d7af150b3d85684149ff5f029f7fd\",\"--\",\"ldap/client/api/src/main/java/org/apache/directory/ldap/client/api/LdapNetworkConnection.java\")\n",
    "pprint.pprint(TopDevelopers)"
   ]
  },
  {
   "cell_type": "markdown",
   "metadata": {},
   "source": [
    "# END OF CVE-2018-1337\n",
    "# --------------------------"
   ]
  },
  {
   "cell_type": "code",
   "execution_count": null,
   "metadata": {},
   "outputs": [],
   "source": []
  }
 ],
 "metadata": {
  "kernelspec": {
   "display_name": "Python 3",
   "language": "python",
   "name": "python3"
  },
  "language_info": {
   "codemirror_mode": {
    "name": "ipython",
    "version": 3
   },
   "file_extension": ".py",
   "mimetype": "text/x-python",
   "name": "python",
   "nbconvert_exporter": "python",
   "pygments_lexer": "ipython3",
   "version": "3.7.4"
  }
 },
 "nbformat": 4,
 "nbformat_minor": 2
}
